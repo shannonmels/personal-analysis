{
  "nbformat": 4,
  "nbformat_minor": 0,
  "metadata": {
    "colab": {
      "provenance": [],
      "authorship_tag": "ABX9TyNnP5ygREe4rI2segmSuW07",
      "include_colab_link": true
    },
    "kernelspec": {
      "name": "python3",
      "display_name": "Python 3"
    },
    "language_info": {
      "name": "python"
    }
  },
  "cells": [
    {
      "cell_type": "markdown",
      "metadata": {
        "id": "view-in-github",
        "colab_type": "text"
      },
      "source": [
        "<a href=\"https://colab.research.google.com/github/shannonmels/personal-analysis/blob/main/Scatter_Plots.ipynb\" target=\"_parent\"><img src=\"https://colab.research.google.com/assets/colab-badge.svg\" alt=\"Open In Colab\"/></a>"
      ]
    },
    {
      "cell_type": "code",
      "execution_count": 1,
      "metadata": {
        "id": "iFqkcVJx5yk3"
      },
      "outputs": [],
      "source": [
        "import pandas as pd\n",
        "import matplotlib.pyplot as plt\n",
        "import pandas as pd\n",
        "import plotly.express as px\n",
        "import plotly.graph_objects as go\n",
        "import numpy as np\n",
        "from plotly.subplots import make_subplots\n",
        "\n",
        "df = pd.read_csv('https://raw.githubusercontent.com/shannonmels/personal-analysis/refs/heads/main/Recipes%20Data%20Analysis.csv')"
      ]
    },
    {
      "cell_type": "code",
      "source": [
        "# Calculate correlations\n",
        "corr_my_rating_rating = df['My rating'].corr(df['Rating'])\n",
        "corr_my_effort_prep_time = df['My effort'].corr(df['Prep time according to Recipe'])\n",
        "corr_my_effort_total_time = df['My effort'].corr(df['Total Time according to recipe'])\n",
        "\n",
        "# Define the color palette\n",
        "colors = ['#E56399', '#F5AC72','#0B6E4F']\n",
        "titles = [\n",
        "    f\"My Rating vs Rating (Corr: {corr_my_rating_rating:.2f})\",\n",
        "    f'My Effort vs Prep Time (Corr: {corr_my_effort_prep_time:.2f})',\n",
        "    f'My Effort vs Total Time (Corr: {corr_my_effort_total_time:.2f})'\n",
        "]\n",
        "x_data = ['My rating', 'My effort', 'My effort']\n",
        "y_data = ['Rating', 'Prep time according to Recipe', 'Total Time according to recipe']\n",
        "name_data = ['My Taste Rating vs Average Rating by Others', 'My Perceived Effort vs Prep Cooking Time', 'My Perceived Effortvs Total Cooking Time']\n",
        "\n",
        "# Create subplot layout for three graphs\n",
        "fig = make_subplots(\n",
        "    rows=1, cols=3,  # One row, three columns\n",
        "    subplot_titles=titles\n",
        ")\n",
        "\n",
        "# Add scatter plots\n",
        "for i in range(3):\n",
        "    fig.add_trace(\n",
        "        go.Scatter(\n",
        "            x=df[x_data[i]], y=df[y_data[i]], mode='markers', text=df['Gerechten'],\n",
        "            marker=dict(size=12, color=colors[i]), name=name_data[i]\n",
        "        ),\n",
        "        row=1, col=i+1\n",
        "    )\n",
        "\n",
        "# Update layout and axis titles\n",
        "fig.update_layout(\n",
        "    title_text=\"Scatter Plots Comparison\",\n",
        "    width=1200, height=500, showlegend=False,\n",
        "    font=dict(color='#444444'),\n",
        "    plot_bgcolor='white', paper_bgcolor='white',\n",
        "    title_font=dict(size=18, family=\"Arial, sans-serif\", color='#444444', weight='bold'),\n",
        ")\n",
        "\n",
        "# Make subplot titles bold and larger\n",
        "fig.update_layout(\n",
        "    annotations=[dict(\n",
        "        font=dict(size=16, weight='bold', color='#444444'),\n",
        "        showarrow=False, x=0.165 + 0.33 * i, y=1.01, xref='paper', yref='paper',\n",
        "        text=titles[i], xanchor='center', yanchor='bottom'\n",
        "    ) for i in range(3)]\n",
        ")\n",
        "\n",
        "# Add axis lines for all subplots\n",
        "fig.update_xaxes(showline=True, linewidth=2, linecolor='#333333', title_font=dict(size=16, weight='bold', color='#333333'))\n",
        "fig.update_yaxes(showline=True, linewidth=2, linecolor='#333333', title_font=dict(size=16, weight='bold', color='#333333'))\n",
        "\n",
        "# Update axis titles\n",
        "axis_titles = [\n",
        "    (\"My Taste Rating\", \"Average Rating by Others\"),\n",
        "    (\"My Perceived Effort\", \"Prep Cooking Time\"),\n",
        "    (\"My Perceived Effort\", \"Total Cooking Time\")\n",
        "]\n",
        "\n",
        "for i, (x_title, y_title) in enumerate(axis_titles):\n",
        "    fig.update_xaxes(title_text=x_title, row=1, col=i+1)\n",
        "    fig.update_yaxes(title_text=y_title, row=1, col=i+1)\n",
        "\n",
        "# Show the plot\n",
        "fig.show()\n"
      ],
      "metadata": {
        "colab": {
          "base_uri": "https://localhost:8080/",
          "height": 517
        },
        "id": "xt2cp_SJ52ol",
        "outputId": "dbeab7c4-2323-470e-e43f-2b3752ed6d68"
      },
      "execution_count": 2,
      "outputs": [
        {
          "output_type": "display_data",
          "data": {
            "text/html": [
              "<html>\n",
              "<head><meta charset=\"utf-8\" /></head>\n",
              "<body>\n",
              "    <div>            <script src=\"https://cdnjs.cloudflare.com/ajax/libs/mathjax/2.7.5/MathJax.js?config=TeX-AMS-MML_SVG\"></script><script type=\"text/javascript\">if (window.MathJax && window.MathJax.Hub && window.MathJax.Hub.Config) {window.MathJax.Hub.Config({SVG: {font: \"STIX-Web\"}});}</script>                <script type=\"text/javascript\">window.PlotlyConfig = {MathJaxConfig: 'local'};</script>\n",
              "        <script charset=\"utf-8\" src=\"https://cdn.plot.ly/plotly-2.35.2.min.js\"></script>                <div id=\"861f7571-9356-439c-9c7e-afd61e5c35ad\" class=\"plotly-graph-div\" style=\"height:500px; width:1200px;\"></div>            <script type=\"text/javascript\">                                    window.PLOTLYENV=window.PLOTLYENV || {};                                    if (document.getElementById(\"861f7571-9356-439c-9c7e-afd61e5c35ad\")) {                    Plotly.newPlot(                        \"861f7571-9356-439c-9c7e-afd61e5c35ad\",                        [{\"marker\":{\"color\":\"#E56399\",\"size\":12},\"mode\":\"markers\",\"name\":\"My Taste Rating vs Average Rating by Others\",\"text\":[\"Mushroom Soup\",\"Aloo Chana (Chickpea Potato Curry)\",\"Butter Beans Orzo\",\"Lentil Curry\",\"Spicy Tom Kha Soup\",\"Veggie & Tofu Tray Bake\",\"Caramelised Onion Butter Beans\",\"Lemon Garlic Orzo With Roasted Vegetables\",\"Red Lentil & Chickpea Bowl\",\"Roasted Eggplant and Chickpea Salad\",\"Mexican Orzo\",\"Lentil Stew\",\"Potato and Red Lentil Dhal\",\"Sweet Potato Cauliflower Soup\",\"Chickpea Tikka Masala\",\"Green Pasta\"],\"x\":[5.0,8.5,9.0,6.5,8.5,8.0,7.5,6.5,8.0,8.5,4.0,9.0,8.0,7.0,5.0,8.5],\"y\":[4.0,5.0,5.0,4.31,null,null,null,4.9,null,null,null,3.96,null,5.0,5.0,5.0],\"type\":\"scatter\",\"xaxis\":\"x\",\"yaxis\":\"y\"},{\"marker\":{\"color\":\"#F5AC72\",\"size\":12},\"mode\":\"markers\",\"name\":\"My Perceived Effort vs Prep Cooking Time\",\"text\":[\"Mushroom Soup\",\"Aloo Chana (Chickpea Potato Curry)\",\"Butter Beans Orzo\",\"Lentil Curry\",\"Spicy Tom Kha Soup\",\"Veggie & Tofu Tray Bake\",\"Caramelised Onion Butter Beans\",\"Lemon Garlic Orzo With Roasted Vegetables\",\"Red Lentil & Chickpea Bowl\",\"Roasted Eggplant and Chickpea Salad\",\"Mexican Orzo\",\"Lentil Stew\",\"Potato and Red Lentil Dhal\",\"Sweet Potato Cauliflower Soup\",\"Chickpea Tikka Masala\",\"Green Pasta\"],\"x\":[4.5,8.0,7.5,5.0,7.0,6.5,9.0,8.0,7.0,6.5,8.0,6.5,8.0,7.5,7.0,4.0],\"y\":[5.0,25.0,10.0,10.0,20.0,15.0,null,30.0,null,10.0,null,10.0,25.0,10.0,15.0,10.0],\"type\":\"scatter\",\"xaxis\":\"x2\",\"yaxis\":\"y2\"},{\"marker\":{\"color\":\"#0B6E4F\",\"size\":12},\"mode\":\"markers\",\"name\":\"My Perceived Effortvs Total Cooking Time\",\"text\":[\"Mushroom Soup\",\"Aloo Chana (Chickpea Potato Curry)\",\"Butter Beans Orzo\",\"Lentil Curry\",\"Spicy Tom Kha Soup\",\"Veggie & Tofu Tray Bake\",\"Caramelised Onion Butter Beans\",\"Lemon Garlic Orzo With Roasted Vegetables\",\"Red Lentil & Chickpea Bowl\",\"Roasted Eggplant and Chickpea Salad\",\"Mexican Orzo\",\"Lentil Stew\",\"Potato and Red Lentil Dhal\",\"Sweet Potato Cauliflower Soup\",\"Chickpea Tikka Masala\",\"Green Pasta\"],\"x\":[4.5,8.0,7.5,5.0,7.0,6.5,9.0,8.0,7.0,6.5,8.0,6.5,8.0,7.5,7.0,4.0],\"y\":[20.0,55.0,35.0,40.0,50.0,45.0,null,70.0,null,50.0,null,40.0,55.0,50.0,35.0,20.0],\"type\":\"scatter\",\"xaxis\":\"x3\",\"yaxis\":\"y3\"}],                        {\"template\":{\"data\":{\"histogram2dcontour\":[{\"type\":\"histogram2dcontour\",\"colorbar\":{\"outlinewidth\":0,\"ticks\":\"\"},\"colorscale\":[[0.0,\"#0d0887\"],[0.1111111111111111,\"#46039f\"],[0.2222222222222222,\"#7201a8\"],[0.3333333333333333,\"#9c179e\"],[0.4444444444444444,\"#bd3786\"],[0.5555555555555556,\"#d8576b\"],[0.6666666666666666,\"#ed7953\"],[0.7777777777777778,\"#fb9f3a\"],[0.8888888888888888,\"#fdca26\"],[1.0,\"#f0f921\"]]}],\"choropleth\":[{\"type\":\"choropleth\",\"colorbar\":{\"outlinewidth\":0,\"ticks\":\"\"}}],\"histogram2d\":[{\"type\":\"histogram2d\",\"colorbar\":{\"outlinewidth\":0,\"ticks\":\"\"},\"colorscale\":[[0.0,\"#0d0887\"],[0.1111111111111111,\"#46039f\"],[0.2222222222222222,\"#7201a8\"],[0.3333333333333333,\"#9c179e\"],[0.4444444444444444,\"#bd3786\"],[0.5555555555555556,\"#d8576b\"],[0.6666666666666666,\"#ed7953\"],[0.7777777777777778,\"#fb9f3a\"],[0.8888888888888888,\"#fdca26\"],[1.0,\"#f0f921\"]]}],\"heatmap\":[{\"type\":\"heatmap\",\"colorbar\":{\"outlinewidth\":0,\"ticks\":\"\"},\"colorscale\":[[0.0,\"#0d0887\"],[0.1111111111111111,\"#46039f\"],[0.2222222222222222,\"#7201a8\"],[0.3333333333333333,\"#9c179e\"],[0.4444444444444444,\"#bd3786\"],[0.5555555555555556,\"#d8576b\"],[0.6666666666666666,\"#ed7953\"],[0.7777777777777778,\"#fb9f3a\"],[0.8888888888888888,\"#fdca26\"],[1.0,\"#f0f921\"]]}],\"heatmapgl\":[{\"type\":\"heatmapgl\",\"colorbar\":{\"outlinewidth\":0,\"ticks\":\"\"},\"colorscale\":[[0.0,\"#0d0887\"],[0.1111111111111111,\"#46039f\"],[0.2222222222222222,\"#7201a8\"],[0.3333333333333333,\"#9c179e\"],[0.4444444444444444,\"#bd3786\"],[0.5555555555555556,\"#d8576b\"],[0.6666666666666666,\"#ed7953\"],[0.7777777777777778,\"#fb9f3a\"],[0.8888888888888888,\"#fdca26\"],[1.0,\"#f0f921\"]]}],\"contourcarpet\":[{\"type\":\"contourcarpet\",\"colorbar\":{\"outlinewidth\":0,\"ticks\":\"\"}}],\"contour\":[{\"type\":\"contour\",\"colorbar\":{\"outlinewidth\":0,\"ticks\":\"\"},\"colorscale\":[[0.0,\"#0d0887\"],[0.1111111111111111,\"#46039f\"],[0.2222222222222222,\"#7201a8\"],[0.3333333333333333,\"#9c179e\"],[0.4444444444444444,\"#bd3786\"],[0.5555555555555556,\"#d8576b\"],[0.6666666666666666,\"#ed7953\"],[0.7777777777777778,\"#fb9f3a\"],[0.8888888888888888,\"#fdca26\"],[1.0,\"#f0f921\"]]}],\"surface\":[{\"type\":\"surface\",\"colorbar\":{\"outlinewidth\":0,\"ticks\":\"\"},\"colorscale\":[[0.0,\"#0d0887\"],[0.1111111111111111,\"#46039f\"],[0.2222222222222222,\"#7201a8\"],[0.3333333333333333,\"#9c179e\"],[0.4444444444444444,\"#bd3786\"],[0.5555555555555556,\"#d8576b\"],[0.6666666666666666,\"#ed7953\"],[0.7777777777777778,\"#fb9f3a\"],[0.8888888888888888,\"#fdca26\"],[1.0,\"#f0f921\"]]}],\"mesh3d\":[{\"type\":\"mesh3d\",\"colorbar\":{\"outlinewidth\":0,\"ticks\":\"\"}}],\"scatter\":[{\"fillpattern\":{\"fillmode\":\"overlay\",\"size\":10,\"solidity\":0.2},\"type\":\"scatter\"}],\"parcoords\":[{\"type\":\"parcoords\",\"line\":{\"colorbar\":{\"outlinewidth\":0,\"ticks\":\"\"}}}],\"scatterpolargl\":[{\"type\":\"scatterpolargl\",\"marker\":{\"colorbar\":{\"outlinewidth\":0,\"ticks\":\"\"}}}],\"bar\":[{\"error_x\":{\"color\":\"#2a3f5f\"},\"error_y\":{\"color\":\"#2a3f5f\"},\"marker\":{\"line\":{\"color\":\"#E5ECF6\",\"width\":0.5},\"pattern\":{\"fillmode\":\"overlay\",\"size\":10,\"solidity\":0.2}},\"type\":\"bar\"}],\"scattergeo\":[{\"type\":\"scattergeo\",\"marker\":{\"colorbar\":{\"outlinewidth\":0,\"ticks\":\"\"}}}],\"scatterpolar\":[{\"type\":\"scatterpolar\",\"marker\":{\"colorbar\":{\"outlinewidth\":0,\"ticks\":\"\"}}}],\"histogram\":[{\"marker\":{\"pattern\":{\"fillmode\":\"overlay\",\"size\":10,\"solidity\":0.2}},\"type\":\"histogram\"}],\"scattergl\":[{\"type\":\"scattergl\",\"marker\":{\"colorbar\":{\"outlinewidth\":0,\"ticks\":\"\"}}}],\"scatter3d\":[{\"type\":\"scatter3d\",\"line\":{\"colorbar\":{\"outlinewidth\":0,\"ticks\":\"\"}},\"marker\":{\"colorbar\":{\"outlinewidth\":0,\"ticks\":\"\"}}}],\"scattermapbox\":[{\"type\":\"scattermapbox\",\"marker\":{\"colorbar\":{\"outlinewidth\":0,\"ticks\":\"\"}}}],\"scatterternary\":[{\"type\":\"scatterternary\",\"marker\":{\"colorbar\":{\"outlinewidth\":0,\"ticks\":\"\"}}}],\"scattercarpet\":[{\"type\":\"scattercarpet\",\"marker\":{\"colorbar\":{\"outlinewidth\":0,\"ticks\":\"\"}}}],\"carpet\":[{\"aaxis\":{\"endlinecolor\":\"#2a3f5f\",\"gridcolor\":\"white\",\"linecolor\":\"white\",\"minorgridcolor\":\"white\",\"startlinecolor\":\"#2a3f5f\"},\"baxis\":{\"endlinecolor\":\"#2a3f5f\",\"gridcolor\":\"white\",\"linecolor\":\"white\",\"minorgridcolor\":\"white\",\"startlinecolor\":\"#2a3f5f\"},\"type\":\"carpet\"}],\"table\":[{\"cells\":{\"fill\":{\"color\":\"#EBF0F8\"},\"line\":{\"color\":\"white\"}},\"header\":{\"fill\":{\"color\":\"#C8D4E3\"},\"line\":{\"color\":\"white\"}},\"type\":\"table\"}],\"barpolar\":[{\"marker\":{\"line\":{\"color\":\"#E5ECF6\",\"width\":0.5},\"pattern\":{\"fillmode\":\"overlay\",\"size\":10,\"solidity\":0.2}},\"type\":\"barpolar\"}],\"pie\":[{\"automargin\":true,\"type\":\"pie\"}]},\"layout\":{\"autotypenumbers\":\"strict\",\"colorway\":[\"#636efa\",\"#EF553B\",\"#00cc96\",\"#ab63fa\",\"#FFA15A\",\"#19d3f3\",\"#FF6692\",\"#B6E880\",\"#FF97FF\",\"#FECB52\"],\"font\":{\"color\":\"#2a3f5f\"},\"hovermode\":\"closest\",\"hoverlabel\":{\"align\":\"left\"},\"paper_bgcolor\":\"white\",\"plot_bgcolor\":\"#E5ECF6\",\"polar\":{\"bgcolor\":\"#E5ECF6\",\"angularaxis\":{\"gridcolor\":\"white\",\"linecolor\":\"white\",\"ticks\":\"\"},\"radialaxis\":{\"gridcolor\":\"white\",\"linecolor\":\"white\",\"ticks\":\"\"}},\"ternary\":{\"bgcolor\":\"#E5ECF6\",\"aaxis\":{\"gridcolor\":\"white\",\"linecolor\":\"white\",\"ticks\":\"\"},\"baxis\":{\"gridcolor\":\"white\",\"linecolor\":\"white\",\"ticks\":\"\"},\"caxis\":{\"gridcolor\":\"white\",\"linecolor\":\"white\",\"ticks\":\"\"}},\"coloraxis\":{\"colorbar\":{\"outlinewidth\":0,\"ticks\":\"\"}},\"colorscale\":{\"sequential\":[[0.0,\"#0d0887\"],[0.1111111111111111,\"#46039f\"],[0.2222222222222222,\"#7201a8\"],[0.3333333333333333,\"#9c179e\"],[0.4444444444444444,\"#bd3786\"],[0.5555555555555556,\"#d8576b\"],[0.6666666666666666,\"#ed7953\"],[0.7777777777777778,\"#fb9f3a\"],[0.8888888888888888,\"#fdca26\"],[1.0,\"#f0f921\"]],\"sequentialminus\":[[0.0,\"#0d0887\"],[0.1111111111111111,\"#46039f\"],[0.2222222222222222,\"#7201a8\"],[0.3333333333333333,\"#9c179e\"],[0.4444444444444444,\"#bd3786\"],[0.5555555555555556,\"#d8576b\"],[0.6666666666666666,\"#ed7953\"],[0.7777777777777778,\"#fb9f3a\"],[0.8888888888888888,\"#fdca26\"],[1.0,\"#f0f921\"]],\"diverging\":[[0,\"#8e0152\"],[0.1,\"#c51b7d\"],[0.2,\"#de77ae\"],[0.3,\"#f1b6da\"],[0.4,\"#fde0ef\"],[0.5,\"#f7f7f7\"],[0.6,\"#e6f5d0\"],[0.7,\"#b8e186\"],[0.8,\"#7fbc41\"],[0.9,\"#4d9221\"],[1,\"#276419\"]]},\"xaxis\":{\"gridcolor\":\"white\",\"linecolor\":\"white\",\"ticks\":\"\",\"title\":{\"standoff\":15},\"zerolinecolor\":\"white\",\"automargin\":true,\"zerolinewidth\":2},\"yaxis\":{\"gridcolor\":\"white\",\"linecolor\":\"white\",\"ticks\":\"\",\"title\":{\"standoff\":15},\"zerolinecolor\":\"white\",\"automargin\":true,\"zerolinewidth\":2},\"scene\":{\"xaxis\":{\"backgroundcolor\":\"#E5ECF6\",\"gridcolor\":\"white\",\"linecolor\":\"white\",\"showbackground\":true,\"ticks\":\"\",\"zerolinecolor\":\"white\",\"gridwidth\":2},\"yaxis\":{\"backgroundcolor\":\"#E5ECF6\",\"gridcolor\":\"white\",\"linecolor\":\"white\",\"showbackground\":true,\"ticks\":\"\",\"zerolinecolor\":\"white\",\"gridwidth\":2},\"zaxis\":{\"backgroundcolor\":\"#E5ECF6\",\"gridcolor\":\"white\",\"linecolor\":\"white\",\"showbackground\":true,\"ticks\":\"\",\"zerolinecolor\":\"white\",\"gridwidth\":2}},\"shapedefaults\":{\"line\":{\"color\":\"#2a3f5f\"}},\"annotationdefaults\":{\"arrowcolor\":\"#2a3f5f\",\"arrowhead\":0,\"arrowwidth\":1},\"geo\":{\"bgcolor\":\"white\",\"landcolor\":\"#E5ECF6\",\"subunitcolor\":\"white\",\"showland\":true,\"showlakes\":true,\"lakecolor\":\"white\"},\"title\":{\"x\":0.05},\"mapbox\":{\"style\":\"light\"}}},\"xaxis\":{\"anchor\":\"y\",\"domain\":[0.0,0.2888888888888889],\"title\":{\"font\":{\"size\":16,\"weight\":\"bold\",\"color\":\"#333333\"},\"text\":\"My Taste Rating\"},\"showline\":true,\"linewidth\":2,\"linecolor\":\"#333333\"},\"yaxis\":{\"anchor\":\"x\",\"domain\":[0.0,1.0],\"title\":{\"font\":{\"size\":16,\"weight\":\"bold\",\"color\":\"#333333\"},\"text\":\"Average Rating by Others\"},\"showline\":true,\"linewidth\":2,\"linecolor\":\"#333333\"},\"xaxis2\":{\"anchor\":\"y2\",\"domain\":[0.35555555555555557,0.6444444444444445],\"title\":{\"font\":{\"size\":16,\"weight\":\"bold\",\"color\":\"#333333\"},\"text\":\"My Perceived Effort\"},\"showline\":true,\"linewidth\":2,\"linecolor\":\"#333333\"},\"yaxis2\":{\"anchor\":\"x2\",\"domain\":[0.0,1.0],\"title\":{\"font\":{\"size\":16,\"weight\":\"bold\",\"color\":\"#333333\"},\"text\":\"Prep Cooking Time\"},\"showline\":true,\"linewidth\":2,\"linecolor\":\"#333333\"},\"xaxis3\":{\"anchor\":\"y3\",\"domain\":[0.7111111111111111,1.0],\"title\":{\"font\":{\"size\":16,\"weight\":\"bold\",\"color\":\"#333333\"},\"text\":\"My Perceived Effort\"},\"showline\":true,\"linewidth\":2,\"linecolor\":\"#333333\"},\"yaxis3\":{\"anchor\":\"x3\",\"domain\":[0.0,1.0],\"title\":{\"font\":{\"size\":16,\"weight\":\"bold\",\"color\":\"#333333\"},\"text\":\"Total Cooking Time\"},\"showline\":true,\"linewidth\":2,\"linecolor\":\"#333333\"},\"annotations\":[{\"font\":{\"size\":16,\"weight\":\"bold\",\"color\":\"#444444\"},\"showarrow\":false,\"text\":\"My Rating vs Rating (Corr: 0.16)\",\"x\":0.165,\"xanchor\":\"center\",\"xref\":\"paper\",\"y\":1.01,\"yanchor\":\"bottom\",\"yref\":\"paper\"},{\"font\":{\"size\":16,\"weight\":\"bold\",\"color\":\"#444444\"},\"showarrow\":false,\"text\":\"My Effort vs Prep Time (Corr: 0.69)\",\"x\":0.495,\"xanchor\":\"center\",\"xref\":\"paper\",\"y\":1.01,\"yanchor\":\"bottom\",\"yref\":\"paper\"},{\"font\":{\"size\":16,\"weight\":\"bold\",\"color\":\"#444444\"},\"showarrow\":false,\"text\":\"My Effort vs Total Time (Corr: 0.81)\",\"x\":0.8250000000000001,\"xanchor\":\"center\",\"xref\":\"paper\",\"y\":1.01,\"yanchor\":\"bottom\",\"yref\":\"paper\"}],\"title\":{\"font\":{\"size\":18,\"family\":\"Arial, sans-serif\",\"color\":\"#444444\",\"weight\":\"bold\"},\"text\":\"Scatter Plots Comparison\"},\"font\":{\"color\":\"#444444\"},\"width\":1200,\"height\":500,\"showlegend\":false,\"plot_bgcolor\":\"white\",\"paper_bgcolor\":\"white\"},                        {\"responsive\": true}                    ).then(function(){\n",
              "                            \n",
              "var gd = document.getElementById('861f7571-9356-439c-9c7e-afd61e5c35ad');\n",
              "var x = new MutationObserver(function (mutations, observer) {{\n",
              "        var display = window.getComputedStyle(gd).display;\n",
              "        if (!display || display === 'none') {{\n",
              "            console.log([gd, 'removed!']);\n",
              "            Plotly.purge(gd);\n",
              "            observer.disconnect();\n",
              "        }}\n",
              "}});\n",
              "\n",
              "// Listen for the removal of the full notebook cells\n",
              "var notebookContainer = gd.closest('#notebook-container');\n",
              "if (notebookContainer) {{\n",
              "    x.observe(notebookContainer, {childList: true});\n",
              "}}\n",
              "\n",
              "// Listen for the clearing of the current output cell\n",
              "var outputEl = gd.closest('.output');\n",
              "if (outputEl) {{\n",
              "    x.observe(outputEl, {childList: true});\n",
              "}}\n",
              "\n",
              "                        })                };                            </script>        </div>\n",
              "</body>\n",
              "</html>"
            ]
          },
          "metadata": {}
        }
      ]
    }
  ]
}